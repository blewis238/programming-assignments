{
 "cells": [
  {
   "cell_type": "code",
   "execution_count": null,
   "id": "3d4b4a23",
   "metadata": {},
   "outputs": [],
   "source": [
    "# zoo.py\n",
    "def hours()\n",
    "    print('Open 9-5 daily')"
   ]
  },
  {
   "cell_type": "code",
   "execution_count": null,
   "id": "a08b86fa",
   "metadata": {},
   "outputs": [],
   "source": [
    "# Start the Pytho interpreter\n",
    "python\n",
    "\n",
    "# Import the zoo module\n",
    "import zoo\n",
    "\n",
    "# Call the hours() function\n",
    "zoo.hours()"
   ]
  }
 ],
 "metadata": {
  "kernelspec": {
   "display_name": "Python 3 (ipykernel)",
   "language": "python",
   "name": "python3"
  },
  "language_info": {
   "codemirror_mode": {
    "name": "ipython",
    "version": 3
   },
   "file_extension": ".py",
   "mimetype": "text/x-python",
   "name": "python",
   "nbconvert_exporter": "python",
   "pygments_lexer": "ipython3",
   "version": "3.11.4"
  }
 },
 "nbformat": 4,
 "nbformat_minor": 5
}
