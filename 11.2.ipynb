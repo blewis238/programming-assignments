{
 "cells": [
  {
   "cell_type": "code",
   "execution_count": null,
   "id": "da5b6330",
   "metadata": {},
   "outputs": [],
   "source": [
    "# Start the pytho interpreter\n",
    "python\n",
    "\n",
    "# Import the zoo module as menagerie\n",
    "import zoo as mengerie\n",
    "\n",
    "# Call the hours() function from the menagerie module\n",
    "menagerie.hours()"
   ]
  }
 ],
 "metadata": {
  "kernelspec": {
   "display_name": "Python 3 (ipykernel)",
   "language": "python",
   "name": "python3"
  },
  "language_info": {
   "codemirror_mode": {
    "name": "ipython",
    "version": 3
   },
   "file_extension": ".py",
   "mimetype": "text/x-python",
   "name": "python",
   "nbconvert_exporter": "python",
   "pygments_lexer": "ipython3",
   "version": "3.11.4"
  }
 },
 "nbformat": 4,
 "nbformat_minor": 5
}
